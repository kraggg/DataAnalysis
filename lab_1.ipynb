{
  "cells": [
    {
      "cell_type": "markdown",
      "metadata": {
        "id": "bri_pAriNFqN"
      },
      "source": [
        "**Цель работы:**\n",
        "\n",
        "Осуществить предварительную обработку данных csv-файла, выявить и устранить проблемы в этих данных."
      ]
    },
    {
      "cell_type": "markdown",
      "metadata": {
        "id": "r_e-GeJmgZ8l"
      },
      "source": [
        "# Загрузка набора данных"
      ]
    },
    {
      "cell_type": "code",
      "execution_count": null,
      "metadata": {},
      "outputs": [],
      "source": []
    },
    {
      "cell_type": "markdown",
      "metadata": {
        "id": "eeq9ZAbSguQS"
      },
      "source": [
        "### Описание предметной области"
      ]
    },
    {
      "cell_type": "markdown",
      "metadata": {
        "id": "XHbH8zNIg0Ib"
      },
      "source": [
        "Вариант № 8\n",
        "\n",
        "Набор данных: credit_risk.csv\n",
        "\n",
        "Атрибуты:\n",
        "\n"
      ]
    },
    {
      "cell_type": "markdown",
      "metadata": {
        "id": "Lwin9ia7hT1i"
      },
      "source": [
        "### 1.Чтение файла (набора данных)"
      ]
    },
    {
      "cell_type": "code",
      "execution_count": 18,
      "metadata": {
        "id": "a5dYQO5YhOYa"
      },
      "outputs": [],
      "source": [
        "import pandas as pd\n",
        "bank = pd.read_csv('credit_risk.csv')"
      ]
    },
    {
      "cell_type": "markdown",
      "metadata": {
        "id": "p82p53SvhjLN"
      },
      "source": [
        "### 2. Обзор данных"
      ]
    },
    {
      "cell_type": "markdown",
      "metadata": {
        "id": "eAYzXaLrh-qh"
      },
      "source": [
        "2.1 Вывод первых 20 строк с помощью метода head."
      ]
    },
    {
      "cell_type": "code",
      "execution_count": 32,
      "metadata": {
        "id": "7yMo3VZ_hotx"
      },
      "outputs": [
        {
          "data": {
            "text/html": [
              "<div>\n",
              "<style scoped>\n",
              "    .dataframe tbody tr th:only-of-type {\n",
              "        vertical-align: middle;\n",
              "    }\n",
              "\n",
              "    .dataframe tbody tr th {\n",
              "        vertical-align: top;\n",
              "    }\n",
              "\n",
              "    .dataframe thead th {\n",
              "        text-align: right;\n",
              "    }\n",
              "</style>\n",
              "<table border=\"1\" class=\"dataframe\">\n",
              "  <thead>\n",
              "    <tr style=\"text-align: right;\">\n",
              "      <th></th>\n",
              "      <th>Id</th>\n",
              "      <th>Age</th>\n",
              "      <th>Income</th>\n",
              "      <th>Home</th>\n",
              "      <th>Employment_length</th>\n",
              "      <th>Intent</th>\n",
              "      <th>Amount</th>\n",
              "      <th>Rate</th>\n",
              "      <th>Status</th>\n",
              "      <th>Percent_income</th>\n",
              "      <th>Default</th>\n",
              "      <th>Credit_length</th>\n",
              "    </tr>\n",
              "  </thead>\n",
              "  <tbody>\n",
              "    <tr>\n",
              "      <th>0</th>\n",
              "      <td>0</td>\n",
              "      <td>22.0</td>\n",
              "      <td>59000</td>\n",
              "      <td>RENT</td>\n",
              "      <td>123.0</td>\n",
              "      <td>PERSONAL</td>\n",
              "      <td>35000</td>\n",
              "      <td>16.02</td>\n",
              "      <td>1</td>\n",
              "      <td>0.59</td>\n",
              "      <td>Y</td>\n",
              "      <td>3</td>\n",
              "    </tr>\n",
              "    <tr>\n",
              "      <th>1</th>\n",
              "      <td>1</td>\n",
              "      <td>21.0</td>\n",
              "      <td>9600</td>\n",
              "      <td>OWN</td>\n",
              "      <td>5.0</td>\n",
              "      <td>EDUCATION</td>\n",
              "      <td>1000</td>\n",
              "      <td>11.14</td>\n",
              "      <td>0</td>\n",
              "      <td>0.10</td>\n",
              "      <td>N</td>\n",
              "      <td>2</td>\n",
              "    </tr>\n",
              "    <tr>\n",
              "      <th>2</th>\n",
              "      <td>2</td>\n",
              "      <td>25.0</td>\n",
              "      <td>9600</td>\n",
              "      <td>MORTGAGE</td>\n",
              "      <td>1.0</td>\n",
              "      <td>MEDICAL</td>\n",
              "      <td>5500</td>\n",
              "      <td>12.87</td>\n",
              "      <td>1</td>\n",
              "      <td>0.57</td>\n",
              "      <td>N</td>\n",
              "      <td>3</td>\n",
              "    </tr>\n",
              "    <tr>\n",
              "      <th>3</th>\n",
              "      <td>3</td>\n",
              "      <td>23.0</td>\n",
              "      <td>65500</td>\n",
              "      <td>RENT</td>\n",
              "      <td>4.0</td>\n",
              "      <td>MEDICAL</td>\n",
              "      <td>35000</td>\n",
              "      <td>15.23</td>\n",
              "      <td>1</td>\n",
              "      <td>0.53</td>\n",
              "      <td>N</td>\n",
              "      <td>2</td>\n",
              "    </tr>\n",
              "    <tr>\n",
              "      <th>4</th>\n",
              "      <td>4</td>\n",
              "      <td>24.0</td>\n",
              "      <td>54400</td>\n",
              "      <td>RENT</td>\n",
              "      <td>8.0</td>\n",
              "      <td>MEDICAL</td>\n",
              "      <td>35000</td>\n",
              "      <td>14.27</td>\n",
              "      <td>1</td>\n",
              "      <td>0.55</td>\n",
              "      <td>Y</td>\n",
              "      <td>4</td>\n",
              "    </tr>\n",
              "    <tr>\n",
              "      <th>5</th>\n",
              "      <td>5</td>\n",
              "      <td>21.0</td>\n",
              "      <td>9900</td>\n",
              "      <td>OWN</td>\n",
              "      <td>2.0</td>\n",
              "      <td>VENTURE</td>\n",
              "      <td>2500</td>\n",
              "      <td>7.14</td>\n",
              "      <td>1</td>\n",
              "      <td>0.25</td>\n",
              "      <td>N</td>\n",
              "      <td>2</td>\n",
              "    </tr>\n",
              "    <tr>\n",
              "      <th>6</th>\n",
              "      <td>6</td>\n",
              "      <td>26.0</td>\n",
              "      <td>77100</td>\n",
              "      <td>RENET</td>\n",
              "      <td>8.0</td>\n",
              "      <td>EDUCATION</td>\n",
              "      <td>35000</td>\n",
              "      <td>12.42</td>\n",
              "      <td>1</td>\n",
              "      <td>0.45</td>\n",
              "      <td>N</td>\n",
              "      <td>3</td>\n",
              "    </tr>\n",
              "    <tr>\n",
              "      <th>7</th>\n",
              "      <td>7</td>\n",
              "      <td>24.0</td>\n",
              "      <td>78956</td>\n",
              "      <td>RENT</td>\n",
              "      <td>5.0</td>\n",
              "      <td>MEDICAL</td>\n",
              "      <td>35000</td>\n",
              "      <td>11.11</td>\n",
              "      <td>1</td>\n",
              "      <td>0.44</td>\n",
              "      <td>N</td>\n",
              "      <td>4</td>\n",
              "    </tr>\n",
              "    <tr>\n",
              "      <th>8</th>\n",
              "      <td>8</td>\n",
              "      <td>24.0</td>\n",
              "      <td>83000</td>\n",
              "      <td>RENT</td>\n",
              "      <td>8.0</td>\n",
              "      <td>PERSONAL</td>\n",
              "      <td>35000</td>\n",
              "      <td>8.90</td>\n",
              "      <td>1</td>\n",
              "      <td>0.42</td>\n",
              "      <td>N</td>\n",
              "      <td>2</td>\n",
              "    </tr>\n",
              "    <tr>\n",
              "      <th>9</th>\n",
              "      <td>9</td>\n",
              "      <td>21.0</td>\n",
              "      <td>10000</td>\n",
              "      <td>OWN</td>\n",
              "      <td>6.0</td>\n",
              "      <td>VENTURE</td>\n",
              "      <td>1600</td>\n",
              "      <td>14.74</td>\n",
              "      <td>1</td>\n",
              "      <td>0.16</td>\n",
              "      <td>N</td>\n",
              "      <td>3</td>\n",
              "    </tr>\n",
              "  </tbody>\n",
              "</table>\n",
              "</div>"
            ],
            "text/plain": [
              "   Id   Age  Income      Home  Employment_length     Intent  Amount   Rate  \\\n",
              "0   0  22.0   59000      RENT              123.0   PERSONAL   35000  16.02   \n",
              "1   1  21.0    9600       OWN                5.0  EDUCATION    1000  11.14   \n",
              "2   2  25.0    9600  MORTGAGE                1.0    MEDICAL    5500  12.87   \n",
              "3   3  23.0   65500      RENT                4.0    MEDICAL   35000  15.23   \n",
              "4   4  24.0   54400      RENT                8.0    MEDICAL   35000  14.27   \n",
              "5   5  21.0    9900       OWN                2.0    VENTURE    2500   7.14   \n",
              "6   6  26.0   77100     RENET                8.0  EDUCATION   35000  12.42   \n",
              "7   7  24.0   78956      RENT                5.0    MEDICAL   35000  11.11   \n",
              "8   8  24.0   83000      RENT                8.0   PERSONAL   35000   8.90   \n",
              "9   9  21.0   10000       OWN                6.0    VENTURE    1600  14.74   \n",
              "\n",
              "   Status  Percent_income Default  Credit_length  \n",
              "0       1            0.59       Y              3  \n",
              "1       0            0.10       N              2  \n",
              "2       1            0.57       N              3  \n",
              "3       1            0.53       N              2  \n",
              "4       1            0.55       Y              4  \n",
              "5       1            0.25       N              2  \n",
              "6       1            0.45       N              3  \n",
              "7       1            0.44       N              4  \n",
              "8       1            0.42       N              2  \n",
              "9       1            0.16       N              3  "
            ]
          },
          "execution_count": 32,
          "metadata": {},
          "output_type": "execute_result"
        }
      ],
      "source": [
        "bank.head(10)"
      ]
    },
    {
      "cell_type": "markdown",
      "metadata": {
        "id": "Ze-lXxLMhpWv"
      },
      "source": [
        "2.2 Оценка данных с помощью метода info."
      ]
    },
    {
      "cell_type": "code",
      "execution_count": 20,
      "metadata": {
        "id": "bjhngmaLiGM-"
      },
      "outputs": [
        {
          "name": "stdout",
          "output_type": "stream",
          "text": [
            "<class 'pandas.core.frame.DataFrame'>\n",
            "RangeIndex: 652 entries, 0 to 651\n",
            "Data columns (total 12 columns):\n",
            " #   Column          Non-Null Count  Dtype  \n",
            "---  ------          --------------  -----  \n",
            " 0   Id              652 non-null    int64  \n",
            " 1   Age             652 non-null    float64\n",
            " 2   Income          652 non-null    int64  \n",
            " 3   Home            652 non-null    object \n",
            " 4   Emp_length      643 non-null    float64\n",
            " 5   Intent          652 non-null    object \n",
            " 6   Amount          652 non-null    int64  \n",
            " 7   Rate            586 non-null    float64\n",
            " 8   Status          652 non-null    int64  \n",
            " 9   Percent_income  652 non-null    float64\n",
            " 10  Default         652 non-null    object \n",
            " 11  Cred_length     652 non-null    int64  \n",
            "dtypes: float64(4), int64(5), object(3)\n",
            "memory usage: 61.3+ KB\n"
          ]
        }
      ],
      "source": [
        "bank.info()"
      ]
    },
    {
      "cell_type": "markdown",
      "metadata": {
        "id": "06PDq9DAiMAY"
      },
      "source": [
        "2.3 Оценка данных с помощью метода describe."
      ]
    },
    {
      "cell_type": "code",
      "execution_count": 21,
      "metadata": {
        "id": "cTVFwzO1jQfN"
      },
      "outputs": [
        {
          "data": {
            "text/html": [
              "<div>\n",
              "<style scoped>\n",
              "    .dataframe tbody tr th:only-of-type {\n",
              "        vertical-align: middle;\n",
              "    }\n",
              "\n",
              "    .dataframe tbody tr th {\n",
              "        vertical-align: top;\n",
              "    }\n",
              "\n",
              "    .dataframe thead th {\n",
              "        text-align: right;\n",
              "    }\n",
              "</style>\n",
              "<table border=\"1\" class=\"dataframe\">\n",
              "  <thead>\n",
              "    <tr style=\"text-align: right;\">\n",
              "      <th></th>\n",
              "      <th>Id</th>\n",
              "      <th>Age</th>\n",
              "      <th>Income</th>\n",
              "      <th>Emp_length</th>\n",
              "      <th>Amount</th>\n",
              "      <th>Rate</th>\n",
              "      <th>Status</th>\n",
              "      <th>Percent_income</th>\n",
              "      <th>Cred_length</th>\n",
              "    </tr>\n",
              "  </thead>\n",
              "  <tbody>\n",
              "    <tr>\n",
              "      <th>count</th>\n",
              "      <td>652.000000</td>\n",
              "      <td>652.000000</td>\n",
              "      <td>652.000000</td>\n",
              "      <td>643.000000</td>\n",
              "      <td>652.000000</td>\n",
              "      <td>586.000000</td>\n",
              "      <td>652.000000</td>\n",
              "      <td>652.000000</td>\n",
              "      <td>652.000000</td>\n",
              "    </tr>\n",
              "    <tr>\n",
              "      <th>mean</th>\n",
              "      <td>325.495399</td>\n",
              "      <td>24.285276</td>\n",
              "      <td>90008.855828</td>\n",
              "      <td>4.601866</td>\n",
              "      <td>18800.996933</td>\n",
              "      <td>12.289471</td>\n",
              "      <td>0.601227</td>\n",
              "      <td>0.279831</td>\n",
              "      <td>3.012270</td>\n",
              "    </tr>\n",
              "    <tr>\n",
              "      <th>std</th>\n",
              "      <td>188.352535</td>\n",
              "      <td>7.841061</td>\n",
              "      <td>69530.312525</td>\n",
              "      <td>7.281616</td>\n",
              "      <td>9152.896250</td>\n",
              "      <td>3.272772</td>\n",
              "      <td>0.490022</td>\n",
              "      <td>0.150231</td>\n",
              "      <td>0.808843</td>\n",
              "    </tr>\n",
              "    <tr>\n",
              "      <th>min</th>\n",
              "      <td>0.000000</td>\n",
              "      <td>21.000000</td>\n",
              "      <td>9600.000000</td>\n",
              "      <td>0.000000</td>\n",
              "      <td>1000.000000</td>\n",
              "      <td>5.420000</td>\n",
              "      <td>0.000000</td>\n",
              "      <td>0.010000</td>\n",
              "      <td>2.000000</td>\n",
              "    </tr>\n",
              "    <tr>\n",
              "      <th>25%</th>\n",
              "      <td>162.750000</td>\n",
              "      <td>23.000000</td>\n",
              "      <td>44000.000000</td>\n",
              "      <td>2.000000</td>\n",
              "      <td>10000.000000</td>\n",
              "      <td>10.250000</td>\n",
              "      <td>0.000000</td>\n",
              "      <td>0.160000</td>\n",
              "      <td>2.000000</td>\n",
              "    </tr>\n",
              "    <tr>\n",
              "      <th>50%</th>\n",
              "      <td>325.500000</td>\n",
              "      <td>24.000000</td>\n",
              "      <td>69998.000000</td>\n",
              "      <td>4.000000</td>\n",
              "      <td>21850.000000</td>\n",
              "      <td>12.180000</td>\n",
              "      <td>1.000000</td>\n",
              "      <td>0.280000</td>\n",
              "      <td>3.000000</td>\n",
              "    </tr>\n",
              "    <tr>\n",
              "      <th>75%</th>\n",
              "      <td>488.250000</td>\n",
              "      <td>25.000000</td>\n",
              "      <td>128499.000000</td>\n",
              "      <td>7.000000</td>\n",
              "      <td>25000.000000</td>\n",
              "      <td>14.720000</td>\n",
              "      <td>1.000000</td>\n",
              "      <td>0.380000</td>\n",
              "      <td>4.000000</td>\n",
              "    </tr>\n",
              "    <tr>\n",
              "      <th>max</th>\n",
              "      <td>649.000000</td>\n",
              "      <td>144.000000</td>\n",
              "      <td>500000.000000</td>\n",
              "      <td>123.000000</td>\n",
              "      <td>35000.000000</td>\n",
              "      <td>21.210000</td>\n",
              "      <td>1.000000</td>\n",
              "      <td>0.830000</td>\n",
              "      <td>4.000000</td>\n",
              "    </tr>\n",
              "  </tbody>\n",
              "</table>\n",
              "</div>"
            ],
            "text/plain": [
              "               Id         Age         Income  Emp_length        Amount  \\\n",
              "count  652.000000  652.000000     652.000000  643.000000    652.000000   \n",
              "mean   325.495399   24.285276   90008.855828    4.601866  18800.996933   \n",
              "std    188.352535    7.841061   69530.312525    7.281616   9152.896250   \n",
              "min      0.000000   21.000000    9600.000000    0.000000   1000.000000   \n",
              "25%    162.750000   23.000000   44000.000000    2.000000  10000.000000   \n",
              "50%    325.500000   24.000000   69998.000000    4.000000  21850.000000   \n",
              "75%    488.250000   25.000000  128499.000000    7.000000  25000.000000   \n",
              "max    649.000000  144.000000  500000.000000  123.000000  35000.000000   \n",
              "\n",
              "             Rate      Status  Percent_income  Cred_length  \n",
              "count  586.000000  652.000000      652.000000   652.000000  \n",
              "mean    12.289471    0.601227        0.279831     3.012270  \n",
              "std      3.272772    0.490022        0.150231     0.808843  \n",
              "min      5.420000    0.000000        0.010000     2.000000  \n",
              "25%     10.250000    0.000000        0.160000     2.000000  \n",
              "50%     12.180000    1.000000        0.280000     3.000000  \n",
              "75%     14.720000    1.000000        0.380000     4.000000  \n",
              "max     21.210000    1.000000        0.830000     4.000000  "
            ]
          },
          "execution_count": 21,
          "metadata": {},
          "output_type": "execute_result"
        }
      ],
      "source": [
        "bank.describe()"
      ]
    },
    {
      "cell_type": "markdown",
      "metadata": {
        "id": "JTbo0IGDiHxn"
      },
      "source": [
        " 2.4 Оценка названий столбцов"
      ]
    },
    {
      "cell_type": "code",
      "execution_count": 23,
      "metadata": {
        "id": "9NEyi2Odik3e"
      },
      "outputs": [
        {
          "data": {
            "text/plain": [
              "Index(['Id', 'Age', 'Income', 'Home', 'Employment_length', 'Intent', 'Amount',\n",
              "       'Rate', 'Status', 'Percent_income', 'Default', 'Credit_length'],\n",
              "      dtype='object')"
            ]
          },
          "execution_count": 23,
          "metadata": {},
          "output_type": "execute_result"
        }
      ],
      "source": [
        "bank.columns"
      ]
    },
    {
      "cell_type": "markdown",
      "metadata": {},
      "source": [
        "**Было принято решение изменить сокращенные названия столбцов на полные с помощью rename.**"
      ]
    },
    {
      "cell_type": "code",
      "execution_count": 22,
      "metadata": {
        "id": "QSJBLl4qjjP8"
      },
      "outputs": [],
      "source": [
        "bank = bank.rename(columns = {'Emp_length': 'Employment_length'})\n",
        "bank = bank.rename(columns = {'Cred_length': 'Credit_length'})\n"
      ]
    },
    {
      "cell_type": "markdown",
      "metadata": {
        "id": "V0tLQcyrjnA_"
      },
      "source": [
        "### 3. Проверка пропусков"
      ]
    },
    {
      "cell_type": "markdown",
      "metadata": {},
      "source": [
        "**Проверка на пропуски показала, что в датафрейме имеются два столбца с пустыми ячейками. Таких столбцов два и значения в них числовые. Было принято решение заполнить пропуски медианными значениями.**"
      ]
    },
    {
      "cell_type": "code",
      "execution_count": null,
      "metadata": {
        "id": "xuTz-Avjj9AW"
      },
      "outputs": [
        {
          "name": "stdout",
          "output_type": "stream",
          "text": [
            "Id                   0\n",
            "Age                  0\n",
            "Income               0\n",
            "Home                 0\n",
            "Employment_length    0\n",
            "Intent               0\n",
            "Amount               0\n",
            "Rate                 0\n",
            "Status               0\n",
            "Percent_income       0\n",
            "Default              0\n",
            "Credit_length        0\n",
            "dtype: int64\n",
            "Id                   0\n",
            "Age                  0\n",
            "Income               0\n",
            "Home                 0\n",
            "Employment_length    0\n",
            "Intent               0\n",
            "Amount               0\n",
            "Rate                 0\n",
            "Status               0\n",
            "Percent_income       0\n",
            "Default              0\n",
            "Credit_length        0\n",
            "dtype: int64\n"
          ]
        }
      ],
      "source": [
        "bank_updated = bank.copy()\n",
        "null_cols = ['Employment_length', 'Rate']\n",
        "for col in null_cols:\n",
        "    bank_updated[col] = bank_updated[col].fillna(bank_updated[col].median())\n",
        "print(bank_updated.isnull().sum())\n",
        "bank = bank_updated"
      ]
    },
    {
      "cell_type": "markdown",
      "metadata": {
        "id": "kkyrXXHikEXk"
      },
      "source": [
        "### 4. Проверка дубликатов"
      ]
    },
    {
      "cell_type": "markdown",
      "metadata": {
        "id": "ImqHvr3okIQ6"
      },
      "source": [
        "#### Проверка явных дубликатов"
      ]
    },
    {
      "cell_type": "code",
      "execution_count": 31,
      "metadata": {
        "id": "qu1oh-e5lDZ1"
      },
      "outputs": [
        {
          "name": "stdout",
          "output_type": "stream",
          "text": [
            "Количество полных дубликатов: 2\n"
          ]
        }
      ],
      "source": [
        "bank['Home'] = bank['Home'].str.upper()\n",
        "bank['Intent'] = bank['Intent'].str.upper()\n",
        "duplicates_count = bank.duplicated().sum()\n",
        "print(f\"Количество полных дубликатов: {duplicates_count}\")"
      ]
    },
    {
      "cell_type": "code",
      "execution_count": 34,
      "metadata": {
        "id": "ntArgvChkK26"
      },
      "outputs": [
        {
          "name": "stdout",
          "output_type": "stream",
          "text": [
            "Количество полных дубликатов: 0\n",
            "<class 'pandas.core.frame.DataFrame'>\n",
            "RangeIndex: 650 entries, 0 to 649\n",
            "Data columns (total 12 columns):\n",
            " #   Column             Non-Null Count  Dtype  \n",
            "---  ------             --------------  -----  \n",
            " 0   Id                 650 non-null    int64  \n",
            " 1   Age                650 non-null    float64\n",
            " 2   Income             650 non-null    int64  \n",
            " 3   Home               650 non-null    object \n",
            " 4   Employment_length  650 non-null    float64\n",
            " 5   Intent             650 non-null    object \n",
            " 6   Amount             650 non-null    int64  \n",
            " 7   Rate               650 non-null    float64\n",
            " 8   Status             650 non-null    int64  \n",
            " 9   Percent_income     650 non-null    float64\n",
            " 10  Default            650 non-null    object \n",
            " 11  Credit_length      650 non-null    int64  \n",
            "dtypes: float64(4), int64(5), object(3)\n",
            "memory usage: 61.1+ KB\n"
          ]
        }
      ],
      "source": [
        "bank_fixed = bank\n",
        "bank_fixed = bank_fixed.drop_duplicates().reset_index(drop=True)\n",
        "duplicates_count = bank_fixed.duplicated().sum()\n",
        "print(f\"Количество полных дубликатов: {duplicates_count}\")\n",
        "bank = bank_fixed\n",
        "bank.info()"
      ]
    },
    {
      "cell_type": "markdown",
      "metadata": {
        "id": "VeHTMcOmkLSw"
      },
      "source": [
        "#### Проверка неявных дубликатов"
      ]
    },
    {
      "cell_type": "markdown",
      "metadata": {},
      "source": [
        "**Важно проверить столбец 'Id' на уникальность значений, а также некоторые столбцы на правильность написания значений.**"
      ]
    },
    {
      "cell_type": "code",
      "execution_count": 64,
      "metadata": {
        "id": "-uOPKHlVlGo8"
      },
      "outputs": [
        {
          "name": "stdout",
          "output_type": "stream",
          "text": [
            "650\n",
            "650\n",
            "Home\n",
            "RENT        414\n",
            "MORTGAGE    136\n",
            "OWN          98\n",
            "OTHER         2\n",
            "Name: count, dtype: int64\n",
            "Intent\n",
            "EDUCATION            145\n",
            "VENTURE              117\n",
            "PERSONAL             111\n",
            "MEDICAL              107\n",
            "DEBTCONSOLIDATION    102\n",
            "HOMEIMPROVEMENT       68\n",
            "Name: count, dtype: int64\n",
            "Status\n",
            "1    390\n",
            "0    260\n",
            "Name: count, dtype: int64\n",
            "Default\n",
            "N    500\n",
            "Y    150\n",
            "Name: count, dtype: int64\n"
          ]
        }
      ],
      "source": [
        "bank['Home'] = bank['Home'].replace('RENET', 'RENT')\n",
        "bank['Default'] = bank['Default'].replace('No','N')\n",
        "print(len(bank['Id'].unique()))\n",
        "print(len(bank['Id']))\n",
        "col_to_check = ['Home','Intent','Status','Default']\n",
        "for col in col_to_check:\n",
        "    print(bank[col].value_counts())\n"
      ]
    },
    {
      "cell_type": "markdown",
      "metadata": {
        "id": "md9GhfYMlbi7"
      },
      "source": [
        "### 5. Провека типов данных"
      ]
    },
    {
      "cell_type": "code",
      "execution_count": 127,
      "metadata": {
        "id": "lXTroENaluCW"
      },
      "outputs": [
        {
          "name": "stdout",
          "output_type": "stream",
          "text": [
            "<class 'pandas.core.frame.DataFrame'>\n",
            "RangeIndex: 650 entries, 0 to 649\n",
            "Data columns (total 12 columns):\n",
            " #   Column             Non-Null Count  Dtype  \n",
            "---  ------             --------------  -----  \n",
            " 0   Id                 650 non-null    int64  \n",
            " 1   Age                650 non-null    int64  \n",
            " 2   Income             650 non-null    float64\n",
            " 3   Home               650 non-null    object \n",
            " 4   Employment_length  650 non-null    int64  \n",
            " 5   Intent             650 non-null    object \n",
            " 6   Amount             650 non-null    float64\n",
            " 7   Rate               650 non-null    float64\n",
            " 8   Status             650 non-null    int64  \n",
            " 9   Percent_income     650 non-null    float64\n",
            " 10  Default            650 non-null    object \n",
            " 11  Credit_length      650 non-null    int64  \n",
            "dtypes: float64(4), int64(5), object(3)\n",
            "memory usage: 61.1+ KB\n"
          ]
        }
      ],
      "source": [
        "bank['Age'] = bank['Age'].astype('int64')\n",
        "bank['Employment_length'] = bank['Employment_length'].astype('int64')\n",
        "bank['Income'] = bank['Income'].astype('float64')\n",
        "bank['Amount'] = bank['Amount'].astype('float64')\n",
        "bank.info()"
      ]
    },
    {
      "cell_type": "markdown",
      "metadata": {
        "id": "lzr0SgqlnmHy"
      },
      "source": [
        "### 6. Группировка данных"
      ]
    },
    {
      "cell_type": "markdown",
      "metadata": {
        "id": "QG_dbwzfmZoS"
      },
      "source": [
        "#### Задание 1"
      ]
    },
    {
      "cell_type": "markdown",
      "metadata": {
        "id": "CyCKTB4DmciW"
      },
      "source": [
        "Группировка - статус домовладения (home) по количеству дефолтов (default)."
      ]
    },
    {
      "cell_type": "code",
      "execution_count": 66,
      "metadata": {
        "id": "tp8Bl1gumYlI"
      },
      "outputs": [
        {
          "name": "stdout",
          "output_type": "stream",
          "text": [
            "Home      Default\n",
            "MORTGAGE  N          107\n",
            "          Y           29\n",
            "OTHER     Y            2\n",
            "OWN       N           85\n",
            "          Y           13\n",
            "RENT      N          308\n",
            "          Y          106\n",
            "Name: Id, dtype: int64\n"
          ]
        }
      ],
      "source": [
        "print(bank.groupby(['Home','Default'])['Id'].count())\n"
      ]
    },
    {
      "cell_type": "markdown",
      "metadata": {
        "id": "jLmhNuq0mms3"
      },
      "source": [
        "**Данная группировка показывает, как статус домовладения влияет на исправные выплаты по кредиту.**"
      ]
    },
    {
      "cell_type": "markdown",
      "metadata": {
        "id": "j0isGCzEne7a"
      },
      "source": [
        "#### Задание 2"
      ]
    },
    {
      "cell_type": "markdown",
      "metadata": {
        "id": "kE2vLBWbne7a"
      },
      "source": [
        "Группировка - цель кредита (intent) по количеству статуса домовладения (home). Создать датафрейм. Переименовать столбец с количеством в “countˮ. Отсортировать по убыванию столбца “countˮ."
      ]
    },
    {
      "cell_type": "code",
      "execution_count": 108,
      "metadata": {
        "id": "ttn78Zaene7a"
      },
      "outputs": [
        {
          "name": "stdout",
          "output_type": "stream",
          "text": [
            "                            count\n",
            "Intent            Home           \n",
            "EDUCATION         RENT         94\n",
            "DEBTCONSOLIDATION RENT         72\n",
            "MEDICAL           RENT         70\n",
            "VENTURE           RENT         70\n",
            "PERSONAL          RENT         69\n",
            "HOMEIMPROVEMENT   RENT         39\n",
            "EDUCATION         MORTGAGE     34\n",
            "VENTURE           MORTGAGE     27\n",
            "MEDICAL           MORTGAGE     22\n",
            "PERSONAL          OWN          22\n",
            "DEBTCONSOLIDATION MORTGAGE     21\n",
            "VENTURE           OWN          20\n",
            "PERSONAL          MORTGAGE     19\n",
            "EDUCATION         OWN          16\n",
            "HOMEIMPROVEMENT   OWN          16\n",
            "MEDICAL           OWN          15\n",
            "HOMEIMPROVEMENT   MORTGAGE     13\n",
            "DEBTCONSOLIDATION OWN           9\n",
            "EDUCATION         OTHER         1\n",
            "PERSONAL          OTHER         1\n"
          ]
        }
      ],
      "source": [
        "intent_of_credit = (bank.groupby(['Intent', 'Home'])\n",
        "                    .size()\n",
        "                    .reset_index(name='count')\n",
        "                    .sort_values('count', ascending = False)\n",
        "                    .set_index(['Intent', 'Home']))\n",
        "print(intent_of_credit)\n",
        "\n"
      ]
    },
    {
      "cell_type": "markdown",
      "metadata": {
        "id": "HCyyeAu6ne7a"
      },
      "source": [
        "**Данная группировка позволяет узнать как цель кредита зависит от статуса домовладения.**"
      ]
    },
    {
      "cell_type": "markdown",
      "metadata": {
        "id": "_3fHGp64nhUJ"
      },
      "source": [
        "#### Задание 3"
      ]
    },
    {
      "cell_type": "markdown",
      "metadata": {
        "id": "_Bc4ehyKnhUJ"
      },
      "source": [
        "Сводная таблица (pivot_table) - средний доход income для каждого возраста. Отсортировать по убыванию.  Округлить до двух знаков."
      ]
    },
    {
      "cell_type": "code",
      "execution_count": 109,
      "metadata": {
        "id": "siDovPvQnhUJ"
      },
      "outputs": [
        {
          "name": "stdout",
          "output_type": "stream",
          "text": [
            "        Income\n",
            "Age           \n",
            "144  225000.00\n",
            "26   122793.74\n",
            "25   106750.02\n",
            "24    88684.03\n",
            "23    85682.35\n",
            "123   80004.00\n",
            "22    64423.88\n",
            "21    42238.58\n"
          ]
        }
      ],
      "source": [
        "pivot_table = bank.pivot_table(values='Income', index='Age', aggfunc='mean')\n",
        "pivot_table['Income'] = pivot_table['Income'].round(2)\n",
        "pivot_table = pivot_table.sort_values('Income', ascending=False)\n",
        "print(pivot_table)\n"
      ]
    },
    {
      "cell_type": "markdown",
      "metadata": {
        "id": "1-vw8iyUnhUK"
      },
      "source": [
        "**Данная сводная таблица позволяет увидеть, как заработок зависит от возраста.**"
      ]
    },
    {
      "cell_type": "markdown",
      "metadata": {
        "id": "FOlw74xCniNo"
      },
      "source": [
        "#### Задание 4"
      ]
    },
    {
      "cell_type": "markdown",
      "metadata": {
        "id": "4tvYwT25niNq"
      },
      "source": [
        "Сводная таблица (pivot_table) - средняя сумма кредита amount для каждой цели (intent) -  строки и возраста - столбцы  . Отсортировать по возрастанию intent.  Округлить до двух знаков."
      ]
    },
    {
      "cell_type": "code",
      "execution_count": 129,
      "metadata": {
        "id": "TfJ719g6niNq"
      },
      "outputs": [
        {
          "name": "stdout",
          "output_type": "stream",
          "text": [
            "Age                    21       22       23       24       25       26   \\\n",
            "Intent                                                                    \n",
            "DEBTCONSOLIDATION   4875.0  20625.0  22500.0  22000.0  20000.0  24000.0   \n",
            "EDUCATION          15000.0  21500.0  24250.0  22000.0  21225.0  21000.0   \n",
            "HOMEIMPROVEMENT     4500.0   4125.0   4000.0  23487.5  24250.0  21000.0   \n",
            "MEDICAL             6000.0  22000.0  21000.0  21800.0  20000.0  23000.0   \n",
            "PERSONAL            4200.0  21000.0  23575.0  25000.0  24000.0  24000.0   \n",
            "VENTURE             6000.0  18000.0  25000.0  22700.0  20000.0  20000.0   \n",
            "\n",
            "Age                    123     144  \n",
            "Intent                              \n",
            "DEBTCONSOLIDATION      NaN     NaN  \n",
            "EDUCATION          20400.0  6000.0  \n",
            "HOMEIMPROVEMENT        NaN     NaN  \n",
            "MEDICAL                NaN     NaN  \n",
            "PERSONAL               NaN     NaN  \n",
            "VENTURE                NaN  4800.0  \n"
          ]
        }
      ],
      "source": [
        "pivot_table = bank.pivot_table(values='Amount', index='Intent', columns='Age', aggfunc='median')\n",
        "pivot_table = pivot_table.round(2).sort_index(ascending=True)\n",
        "\n",
        "\n",
        "print(pivot_table)"
      ]
    },
    {
      "cell_type": "markdown",
      "metadata": {
        "id": "yqJqvk5qniNr"
      },
      "source": [
        "**Данная сводная таблица позволяет увидеть связь суммы кредита и возраста, а также цель для которой взят кредит.**"
      ]
    },
    {
      "cell_type": "markdown",
      "metadata": {
        "id": "TpnXb6gip3S8"
      },
      "source": [
        "### Вывод"
      ]
    },
    {
      "cell_type": "markdown",
      "metadata": {},
      "source": [
        "В ходе выполнения лабораторной работы был проведен комплексный предварительный анализ данных кредитных заявок. На начальном этапе осуществлено знакомство со структурой данных, выявлены пропущенные значения и некорректные типы данных. Проведена работа по очистке данных: заполнены пропуски медианными значениями, удалены дубликаты, исправлены типы данных.\n",
        "\n",
        "Выполнены аналитические группировки, позволяющие выявить взаимосвязи между различными параметрами кредитных заявок. Построены сводные таблицы, демонстрирующие распределение доходов и сумм кредитов в зависимости от возраста заемщиков. Проанализированы зависимости между целями кредитования и статусом домовладения клиентов.\n",
        "\n",
        "Результаты работы показывают, что проведенная предварительная обработка данных позволяет перейти к более глубокому анализу и моделированию. Качественно подготовленные данные являются надежной основой для построения прогнозных моделей и принятия взвешенных решений в области кредитного скоринга. Весь процесс обработки данных подтвердил важность этапа предварительного анализа для получения достоверных результатов.\n"
      ]
    },
    {
      "cell_type": "markdown",
      "metadata": {
        "id": "Sn3y7og_vjGG"
      },
      "source": [
        "### Дополнительное задание"
      ]
    },
    {
      "cell_type": "markdown",
      "metadata": {
        "id": "rR6WgHXYvlqD"
      },
      "source": [
        "**`Подробная формулировка задания`**"
      ]
    },
    {
      "cell_type": "code",
      "execution_count": null,
      "metadata": {
        "id": "wG5TGQpevlBq"
      },
      "outputs": [],
      "source": [
        "# код выполнения задания"
      ]
    },
    {
      "cell_type": "markdown",
      "metadata": {
        "id": "y-qpTuhTvon3"
      },
      "source": [
        "***`Подробный вывод по заданию, описание полученных результатов`***"
      ]
    }
  ],
  "metadata": {
    "colab": {
      "provenance": []
    },
    "kernelspec": {
      "display_name": ".venv",
      "language": "python",
      "name": "python3"
    },
    "language_info": {
      "codemirror_mode": {
        "name": "ipython",
        "version": 3
      },
      "file_extension": ".py",
      "mimetype": "text/x-python",
      "name": "python",
      "nbconvert_exporter": "python",
      "pygments_lexer": "ipython3",
      "version": "3.12.0"
    }
  },
  "nbformat": 4,
  "nbformat_minor": 0
}
