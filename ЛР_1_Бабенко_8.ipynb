{
  "cells": [
    {
      "cell_type": "markdown",
      "metadata": {
        "id": "bri_pAriNFqN"
      },
      "source": [
        "**Цель работы:**\n",
        "\n",
        "Осуществить предварительную обработку данных csv-файла, выявить и устранить проблемы в этих данных."
      ]
    },
    {
      "cell_type": "markdown",
      "metadata": {
        "id": "r_e-GeJmgZ8l"
      },
      "source": [
        "# Загрузка набора данных"
      ]
    },
    {
      "cell_type": "markdown",
      "metadata": {
        "id": "eeq9ZAbSguQS"
      },
      "source": [
        "### Описание предметной области"
      ]
    },
    {
      "cell_type": "markdown",
      "metadata": {
        "id": "XHbH8zNIg0Ib"
      },
      "source": [
        "Вариант № 8\n",
        "\n",
        "Набор данных: credit_risk.csv\n",
        "\n",
        "Атрибуты:\n",
        "\n"
      ]
    },
    {
      "cell_type": "markdown",
      "metadata": {
        "id": "Lwin9ia7hT1i"
      },
      "source": [
        "### 1.Чтение файла (набора данных)"
      ]
    },
    {
      "cell_type": "markdown",
      "metadata": {},
      "source": [
        "*На данном этапе подключим необходимую библиотеку pandas и создадим DataFrame() bank, который будет включать в себя данные из csv таблицы.*"
      ]
    },
    {
      "cell_type": "code",
      "execution_count": 3,
      "metadata": {
        "id": "a5dYQO5YhOYa"
      },
      "outputs": [],
      "source": [
        "import pandas as pd\n",
        "bank = pd.read_csv('credit_risk.csv')"
      ]
    },
    {
      "cell_type": "markdown",
      "metadata": {
        "id": "p82p53SvhjLN"
      },
      "source": [
        "### 2. Обзор данных"
      ]
    },
    {
      "cell_type": "markdown",
      "metadata": {
        "id": "eAYzXaLrh-qh"
      },
      "source": [
        "2.1 Вывод первых 10 строк с помощью метода head."
      ]
    },
    {
      "cell_type": "markdown",
      "metadata": {},
      "source": [
        "*При выполнении команды вывелись первые 10 записей в датафрейме bank. Из данных записей можно сделать вывод, что таблица содержит информацию о заявках на кредит.*"
      ]
    },
    {
      "cell_type": "code",
      "execution_count": 4,
      "metadata": {
        "id": "7yMo3VZ_hotx"
      },
      "outputs": [
        {
          "data": {
            "text/html": [
              "<div>\n",
              "<style scoped>\n",
              "    .dataframe tbody tr th:only-of-type {\n",
              "        vertical-align: middle;\n",
              "    }\n",
              "\n",
              "    .dataframe tbody tr th {\n",
              "        vertical-align: top;\n",
              "    }\n",
              "\n",
              "    .dataframe thead th {\n",
              "        text-align: right;\n",
              "    }\n",
              "</style>\n",
              "<table border=\"1\" class=\"dataframe\">\n",
              "  <thead>\n",
              "    <tr style=\"text-align: right;\">\n",
              "      <th></th>\n",
              "      <th>Id</th>\n",
              "      <th>Age</th>\n",
              "      <th>Income</th>\n",
              "      <th>Home</th>\n",
              "      <th>Emp_length</th>\n",
              "      <th>Intent</th>\n",
              "      <th>Amount</th>\n",
              "      <th>Rate</th>\n",
              "      <th>Status</th>\n",
              "      <th>Percent_income</th>\n",
              "      <th>Default</th>\n",
              "      <th>Cred_length</th>\n",
              "    </tr>\n",
              "  </thead>\n",
              "  <tbody>\n",
              "    <tr>\n",
              "      <th>0</th>\n",
              "      <td>0</td>\n",
              "      <td>22.0</td>\n",
              "      <td>59000</td>\n",
              "      <td>RENT</td>\n",
              "      <td>123.0</td>\n",
              "      <td>PERSONAL</td>\n",
              "      <td>35000</td>\n",
              "      <td>16.02</td>\n",
              "      <td>1</td>\n",
              "      <td>0.59</td>\n",
              "      <td>Y</td>\n",
              "      <td>3</td>\n",
              "    </tr>\n",
              "    <tr>\n",
              "      <th>1</th>\n",
              "      <td>1</td>\n",
              "      <td>21.0</td>\n",
              "      <td>9600</td>\n",
              "      <td>OWN</td>\n",
              "      <td>5.0</td>\n",
              "      <td>EDUCATION</td>\n",
              "      <td>1000</td>\n",
              "      <td>11.14</td>\n",
              "      <td>0</td>\n",
              "      <td>0.10</td>\n",
              "      <td>N</td>\n",
              "      <td>2</td>\n",
              "    </tr>\n",
              "    <tr>\n",
              "      <th>2</th>\n",
              "      <td>2</td>\n",
              "      <td>25.0</td>\n",
              "      <td>9600</td>\n",
              "      <td>MORTGAGE</td>\n",
              "      <td>1.0</td>\n",
              "      <td>MEDICAL</td>\n",
              "      <td>5500</td>\n",
              "      <td>12.87</td>\n",
              "      <td>1</td>\n",
              "      <td>0.57</td>\n",
              "      <td>N</td>\n",
              "      <td>3</td>\n",
              "    </tr>\n",
              "    <tr>\n",
              "      <th>3</th>\n",
              "      <td>3</td>\n",
              "      <td>23.0</td>\n",
              "      <td>65500</td>\n",
              "      <td>RENT</td>\n",
              "      <td>4.0</td>\n",
              "      <td>MEDICAL</td>\n",
              "      <td>35000</td>\n",
              "      <td>15.23</td>\n",
              "      <td>1</td>\n",
              "      <td>0.53</td>\n",
              "      <td>N</td>\n",
              "      <td>2</td>\n",
              "    </tr>\n",
              "    <tr>\n",
              "      <th>4</th>\n",
              "      <td>4</td>\n",
              "      <td>24.0</td>\n",
              "      <td>54400</td>\n",
              "      <td>RENT</td>\n",
              "      <td>8.0</td>\n",
              "      <td>MEDICAL</td>\n",
              "      <td>35000</td>\n",
              "      <td>14.27</td>\n",
              "      <td>1</td>\n",
              "      <td>0.55</td>\n",
              "      <td>Y</td>\n",
              "      <td>4</td>\n",
              "    </tr>\n",
              "    <tr>\n",
              "      <th>5</th>\n",
              "      <td>5</td>\n",
              "      <td>21.0</td>\n",
              "      <td>9900</td>\n",
              "      <td>OWN</td>\n",
              "      <td>2.0</td>\n",
              "      <td>VENTURE</td>\n",
              "      <td>2500</td>\n",
              "      <td>7.14</td>\n",
              "      <td>1</td>\n",
              "      <td>0.25</td>\n",
              "      <td>N</td>\n",
              "      <td>2</td>\n",
              "    </tr>\n",
              "    <tr>\n",
              "      <th>6</th>\n",
              "      <td>6</td>\n",
              "      <td>26.0</td>\n",
              "      <td>77100</td>\n",
              "      <td>RENET</td>\n",
              "      <td>8.0</td>\n",
              "      <td>EDUCATION</td>\n",
              "      <td>35000</td>\n",
              "      <td>12.42</td>\n",
              "      <td>1</td>\n",
              "      <td>0.45</td>\n",
              "      <td>N</td>\n",
              "      <td>3</td>\n",
              "    </tr>\n",
              "    <tr>\n",
              "      <th>7</th>\n",
              "      <td>7</td>\n",
              "      <td>24.0</td>\n",
              "      <td>78956</td>\n",
              "      <td>RENT</td>\n",
              "      <td>5.0</td>\n",
              "      <td>MEDICAL</td>\n",
              "      <td>35000</td>\n",
              "      <td>11.11</td>\n",
              "      <td>1</td>\n",
              "      <td>0.44</td>\n",
              "      <td>N</td>\n",
              "      <td>4</td>\n",
              "    </tr>\n",
              "    <tr>\n",
              "      <th>8</th>\n",
              "      <td>8</td>\n",
              "      <td>24.0</td>\n",
              "      <td>83000</td>\n",
              "      <td>RENT</td>\n",
              "      <td>8.0</td>\n",
              "      <td>PERSONAL</td>\n",
              "      <td>35000</td>\n",
              "      <td>8.90</td>\n",
              "      <td>1</td>\n",
              "      <td>0.42</td>\n",
              "      <td>N</td>\n",
              "      <td>2</td>\n",
              "    </tr>\n",
              "    <tr>\n",
              "      <th>9</th>\n",
              "      <td>9</td>\n",
              "      <td>21.0</td>\n",
              "      <td>10000</td>\n",
              "      <td>OWN</td>\n",
              "      <td>6.0</td>\n",
              "      <td>VENTURE</td>\n",
              "      <td>1600</td>\n",
              "      <td>14.74</td>\n",
              "      <td>1</td>\n",
              "      <td>0.16</td>\n",
              "      <td>N</td>\n",
              "      <td>3</td>\n",
              "    </tr>\n",
              "  </tbody>\n",
              "</table>\n",
              "</div>"
            ],
            "text/plain": [
              "   Id   Age  Income      Home  Emp_length     Intent  Amount   Rate  Status  \\\n",
              "0   0  22.0   59000      RENT       123.0   PERSONAL   35000  16.02       1   \n",
              "1   1  21.0    9600       OWN         5.0  EDUCATION    1000  11.14       0   \n",
              "2   2  25.0    9600  MORTGAGE         1.0    MEDICAL    5500  12.87       1   \n",
              "3   3  23.0   65500      RENT         4.0    MEDICAL   35000  15.23       1   \n",
              "4   4  24.0   54400      RENT         8.0    MEDICAL   35000  14.27       1   \n",
              "5   5  21.0    9900       OWN         2.0    VENTURE    2500   7.14       1   \n",
              "6   6  26.0   77100     RENET         8.0  EDUCATION   35000  12.42       1   \n",
              "7   7  24.0   78956      RENT         5.0    MEDICAL   35000  11.11       1   \n",
              "8   8  24.0   83000      RENT         8.0   PERSONAL   35000   8.90       1   \n",
              "9   9  21.0   10000       OWN         6.0    VENTURE    1600  14.74       1   \n",
              "\n",
              "   Percent_income Default  Cred_length  \n",
              "0            0.59       Y            3  \n",
              "1            0.10       N            2  \n",
              "2            0.57       N            3  \n",
              "3            0.53       N            2  \n",
              "4            0.55       Y            4  \n",
              "5            0.25       N            2  \n",
              "6            0.45       N            3  \n",
              "7            0.44       N            4  \n",
              "8            0.42       N            2  \n",
              "9            0.16       N            3  "
            ]
          },
          "execution_count": 4,
          "metadata": {},
          "output_type": "execute_result"
        }
      ],
      "source": [
        "bank.head(10)"
      ]
    },
    {
      "cell_type": "markdown",
      "metadata": {
        "id": "Ze-lXxLMhpWv"
      },
      "source": [
        "2.2 Оценка данных с помощью метода info."
      ]
    },
    {
      "cell_type": "code",
      "execution_count": null,
      "metadata": {
        "id": "bjhngmaLiGM-"
      },
      "outputs": [
        {
          "name": "stdout",
          "output_type": "stream",
          "text": [
            "<class 'pandas.core.frame.DataFrame'>\n",
            "RangeIndex: 652 entries, 0 to 651\n",
            "Data columns (total 12 columns):\n",
            " #   Column          Non-Null Count  Dtype  \n",
            "---  ------          --------------  -----  \n",
            " 0   Id              652 non-null    int64  \n",
            " 1   Age             652 non-null    float64\n",
            " 2   Income          652 non-null    int64  \n",
            " 3   Home            652 non-null    object \n",
            " 4   Emp_length      643 non-null    float64\n",
            " 5   Intent          652 non-null    object \n",
            " 6   Amount          652 non-null    int64  \n",
            " 7   Rate            586 non-null    float64\n",
            " 8   Status          652 non-null    int64  \n",
            " 9   Percent_income  652 non-null    float64\n",
            " 10  Default         652 non-null    object \n",
            " 11  Cred_length     652 non-null    int64  \n",
            "dtypes: float64(4), int64(5), object(3)\n",
            "memory usage: 61.3+ KB\n"
          ]
        }
      ],
      "source": [
        "bank.info()"
      ]
    },
    {
      "cell_type": "markdown",
      "metadata": {},
      "source": [
        "*Команда info() дает более наглядный вывод о текущем датафрейме. Здесь указано количество колонок, строк в таблице, их название и тип данных. Также показано, что в данном датафрейме есть два столбца с нулевыми значениями: Emp_length и Rate*\n"
      ]
    },
    {
      "cell_type": "markdown",
      "metadata": {
        "id": "06PDq9DAiMAY"
      },
      "source": [
        "2.3 Оценка данных с помощью метода describe."
      ]
    },
    {
      "cell_type": "code",
      "execution_count": 7,
      "metadata": {
        "id": "cTVFwzO1jQfN"
      },
      "outputs": [
        {
          "data": {
            "text/html": [
              "<div>\n",
              "<style scoped>\n",
              "    .dataframe tbody tr th:only-of-type {\n",
              "        vertical-align: middle;\n",
              "    }\n",
              "\n",
              "    .dataframe tbody tr th {\n",
              "        vertical-align: top;\n",
              "    }\n",
              "\n",
              "    .dataframe thead th {\n",
              "        text-align: right;\n",
              "    }\n",
              "</style>\n",
              "<table border=\"1\" class=\"dataframe\">\n",
              "  <thead>\n",
              "    <tr style=\"text-align: right;\">\n",
              "      <th></th>\n",
              "      <th>Id</th>\n",
              "      <th>Age</th>\n",
              "      <th>Income</th>\n",
              "      <th>Emp_length</th>\n",
              "      <th>Amount</th>\n",
              "      <th>Rate</th>\n",
              "      <th>Status</th>\n",
              "      <th>Percent_income</th>\n",
              "      <th>Cred_length</th>\n",
              "    </tr>\n",
              "  </thead>\n",
              "  <tbody>\n",
              "    <tr>\n",
              "      <th>count</th>\n",
              "      <td>652.000000</td>\n",
              "      <td>652.000000</td>\n",
              "      <td>652.000000</td>\n",
              "      <td>643.000000</td>\n",
              "      <td>652.000000</td>\n",
              "      <td>586.000000</td>\n",
              "      <td>652.000000</td>\n",
              "      <td>652.000000</td>\n",
              "      <td>652.000000</td>\n",
              "    </tr>\n",
              "    <tr>\n",
              "      <th>mean</th>\n",
              "      <td>325.495399</td>\n",
              "      <td>24.285276</td>\n",
              "      <td>90008.855828</td>\n",
              "      <td>4.601866</td>\n",
              "      <td>18800.996933</td>\n",
              "      <td>12.289471</td>\n",
              "      <td>0.601227</td>\n",
              "      <td>0.279831</td>\n",
              "      <td>3.012270</td>\n",
              "    </tr>\n",
              "    <tr>\n",
              "      <th>std</th>\n",
              "      <td>188.352535</td>\n",
              "      <td>7.841061</td>\n",
              "      <td>69530.312525</td>\n",
              "      <td>7.281616</td>\n",
              "      <td>9152.896250</td>\n",
              "      <td>3.272772</td>\n",
              "      <td>0.490022</td>\n",
              "      <td>0.150231</td>\n",
              "      <td>0.808843</td>\n",
              "    </tr>\n",
              "    <tr>\n",
              "      <th>min</th>\n",
              "      <td>0.000000</td>\n",
              "      <td>21.000000</td>\n",
              "      <td>9600.000000</td>\n",
              "      <td>0.000000</td>\n",
              "      <td>1000.000000</td>\n",
              "      <td>5.420000</td>\n",
              "      <td>0.000000</td>\n",
              "      <td>0.010000</td>\n",
              "      <td>2.000000</td>\n",
              "    </tr>\n",
              "    <tr>\n",
              "      <th>25%</th>\n",
              "      <td>162.750000</td>\n",
              "      <td>23.000000</td>\n",
              "      <td>44000.000000</td>\n",
              "      <td>2.000000</td>\n",
              "      <td>10000.000000</td>\n",
              "      <td>10.250000</td>\n",
              "      <td>0.000000</td>\n",
              "      <td>0.160000</td>\n",
              "      <td>2.000000</td>\n",
              "    </tr>\n",
              "    <tr>\n",
              "      <th>50%</th>\n",
              "      <td>325.500000</td>\n",
              "      <td>24.000000</td>\n",
              "      <td>69998.000000</td>\n",
              "      <td>4.000000</td>\n",
              "      <td>21850.000000</td>\n",
              "      <td>12.180000</td>\n",
              "      <td>1.000000</td>\n",
              "      <td>0.280000</td>\n",
              "      <td>3.000000</td>\n",
              "    </tr>\n",
              "    <tr>\n",
              "      <th>75%</th>\n",
              "      <td>488.250000</td>\n",
              "      <td>25.000000</td>\n",
              "      <td>128499.000000</td>\n",
              "      <td>7.000000</td>\n",
              "      <td>25000.000000</td>\n",
              "      <td>14.720000</td>\n",
              "      <td>1.000000</td>\n",
              "      <td>0.380000</td>\n",
              "      <td>4.000000</td>\n",
              "    </tr>\n",
              "    <tr>\n",
              "      <th>max</th>\n",
              "      <td>649.000000</td>\n",
              "      <td>144.000000</td>\n",
              "      <td>500000.000000</td>\n",
              "      <td>123.000000</td>\n",
              "      <td>35000.000000</td>\n",
              "      <td>21.210000</td>\n",
              "      <td>1.000000</td>\n",
              "      <td>0.830000</td>\n",
              "      <td>4.000000</td>\n",
              "    </tr>\n",
              "  </tbody>\n",
              "</table>\n",
              "</div>"
            ],
            "text/plain": [
              "               Id         Age         Income  Emp_length        Amount  \\\n",
              "count  652.000000  652.000000     652.000000  643.000000    652.000000   \n",
              "mean   325.495399   24.285276   90008.855828    4.601866  18800.996933   \n",
              "std    188.352535    7.841061   69530.312525    7.281616   9152.896250   \n",
              "min      0.000000   21.000000    9600.000000    0.000000   1000.000000   \n",
              "25%    162.750000   23.000000   44000.000000    2.000000  10000.000000   \n",
              "50%    325.500000   24.000000   69998.000000    4.000000  21850.000000   \n",
              "75%    488.250000   25.000000  128499.000000    7.000000  25000.000000   \n",
              "max    649.000000  144.000000  500000.000000  123.000000  35000.000000   \n",
              "\n",
              "             Rate      Status  Percent_income  Cred_length  \n",
              "count  586.000000  652.000000      652.000000   652.000000  \n",
              "mean    12.289471    0.601227        0.279831     3.012270  \n",
              "std      3.272772    0.490022        0.150231     0.808843  \n",
              "min      5.420000    0.000000        0.010000     2.000000  \n",
              "25%     10.250000    0.000000        0.160000     2.000000  \n",
              "50%     12.180000    1.000000        0.280000     3.000000  \n",
              "75%     14.720000    1.000000        0.380000     4.000000  \n",
              "max     21.210000    1.000000        0.830000     4.000000  "
            ]
          },
          "execution_count": 7,
          "metadata": {},
          "output_type": "execute_result"
        }
      ],
      "source": [
        "bank.describe()"
      ]
    },
    {
      "cell_type": "markdown",
      "metadata": {},
      "source": [
        "*Метод describe() дает информацию только по числовым колонкам в датафрейме. С помощью данного метода можно узнать статистическую информацию о данных. Каждая строка имеет свое значение:*\n",
        "1. *count - количество непустых значений в столбце.*\n",
        "2. *mean - среднее арифметическое значение.*\n",
        "3. *std - стандартное отклонение.*\n",
        "4. *min - минимальное значение.*\n",
        "5. *25%- 25% данных ниже указанного.*\n",
        "6. *50%- 50% данных ниже указанного.*\n",
        "7. *75%- 75% данных ниже указанного.*\n",
        "8. *max - максимальное значение.*\n"
      ]
    },
    {
      "cell_type": "markdown",
      "metadata": {
        "id": "JTbo0IGDiHxn"
      },
      "source": [
        " 2.4 Оценка названий столбцов"
      ]
    },
    {
      "cell_type": "markdown",
      "metadata": {},
      "source": [
        "*C помощью bank.columns выведем список названий колонок и проанализируем их. Ошибок в названиях столбцов нет, но было принято решение изменить сокращенные названия на полные.*"
      ]
    },
    {
      "cell_type": "code",
      "execution_count": 8,
      "metadata": {
        "id": "9NEyi2Odik3e"
      },
      "outputs": [
        {
          "data": {
            "text/plain": [
              "Index(['Id', 'Age', 'Income', 'Home', 'Emp_length', 'Intent', 'Amount', 'Rate',\n",
              "       'Status', 'Percent_income', 'Default', 'Cred_length'],\n",
              "      dtype='object')"
            ]
          },
          "execution_count": 8,
          "metadata": {},
          "output_type": "execute_result"
        }
      ],
      "source": [
        "bank.columns"
      ]
    },
    {
      "cell_type": "markdown",
      "metadata": {},
      "source": [
        "*Было принято решение изменить сокращенные названия столбцов на полные с помощью rename.*"
      ]
    },
    {
      "cell_type": "code",
      "execution_count": 39,
      "metadata": {
        "id": "QSJBLl4qjjP8"
      },
      "outputs": [],
      "source": [
        "bank = bank.rename(columns = {'Emp_length': 'Employment_length'})\n",
        "bank = bank.rename(columns = {'Cred_length': 'Credit_length'})\n"
      ]
    },
    {
      "cell_type": "markdown",
      "metadata": {
        "id": "V0tLQcyrjnA_"
      },
      "source": [
        "### 3. Проверка пропусков"
      ]
    },
    {
      "cell_type": "markdown",
      "metadata": {},
      "source": [
        "*Проверка на пропуски с помощью метода info() показала, что в датафрейме имеются два столбца с пустыми ячейками. Таких столбцов два и значения в них числовые. Было принято решение заполнить пропуски медианными значениями.*"
      ]
    },
    {
      "cell_type": "code",
      "execution_count": 10,
      "metadata": {
        "id": "xuTz-Avjj9AW"
      },
      "outputs": [
        {
          "name": "stdout",
          "output_type": "stream",
          "text": [
            "Id                   0\n",
            "Age                  0\n",
            "Income               0\n",
            "Home                 0\n",
            "Employment_length    0\n",
            "Intent               0\n",
            "Amount               0\n",
            "Rate                 0\n",
            "Status               0\n",
            "Percent_income       0\n",
            "Default              0\n",
            "Credit_length        0\n",
            "dtype: int64\n"
          ]
        }
      ],
      "source": [
        "bank_updated = bank.copy()\n",
        "null_cols = ['Employment_length', 'Rate']\n",
        "for col in null_cols:\n",
        "    bank_updated[col] = bank_updated[col].fillna(bank_updated[col].median())\n",
        "print(bank_updated.isnull().sum())\n",
        "bank = bank_updated"
      ]
    },
    {
      "cell_type": "markdown",
      "metadata": {
        "id": "kkyrXXHikEXk"
      },
      "source": [
        "### 4. Проверка дубликатов"
      ]
    },
    {
      "cell_type": "markdown",
      "metadata": {
        "id": "ImqHvr3okIQ6"
      },
      "source": [
        "#### Проверка явных дубликатов"
      ]
    },
    {
      "cell_type": "markdown",
      "metadata": {},
      "source": [
        "*Чтобы выявить явные дубликаты - дубликаты, у которых полностью совпадают значения во всех столбцах, воспользуемся методом duplicated().sum().*\n",
        "\n",
        "*Первые две строчки кода - это проверка, что не будет проблем с регистром.*"
      ]
    },
    {
      "cell_type": "code",
      "execution_count": 11,
      "metadata": {
        "id": "qu1oh-e5lDZ1"
      },
      "outputs": [
        {
          "name": "stdout",
          "output_type": "stream",
          "text": [
            "Количество полных дубликатов: 2\n"
          ]
        }
      ],
      "source": [
        "bank['Home'] = bank['Home'].str.upper()\n",
        "bank['Intent'] = bank['Intent'].str.upper()\n",
        "duplicates_count = bank.duplicated().sum()\n",
        "print(f\"Количество полных дубликатов: {duplicates_count}\")"
      ]
    },
    {
      "cell_type": "markdown",
      "metadata": {},
      "source": [
        "*Удаление дубликатов происходит методом drop_duplicates().*"
      ]
    },
    {
      "cell_type": "code",
      "execution_count": 12,
      "metadata": {
        "id": "ntArgvChkK26"
      },
      "outputs": [
        {
          "name": "stdout",
          "output_type": "stream",
          "text": [
            "Количество полных дубликатов: 0\n",
            "<class 'pandas.core.frame.DataFrame'>\n",
            "RangeIndex: 650 entries, 0 to 649\n",
            "Data columns (total 12 columns):\n",
            " #   Column             Non-Null Count  Dtype  \n",
            "---  ------             --------------  -----  \n",
            " 0   Id                 650 non-null    int64  \n",
            " 1   Age                650 non-null    int64  \n",
            " 2   Income             650 non-null    int64  \n",
            " 3   Home               650 non-null    object \n",
            " 4   Employment_length  650 non-null    float64\n",
            " 5   Intent             650 non-null    object \n",
            " 6   Amount             650 non-null    int64  \n",
            " 7   Rate               650 non-null    float64\n",
            " 8   Status             650 non-null    int64  \n",
            " 9   Percent_income     650 non-null    float64\n",
            " 10  Default            650 non-null    object \n",
            " 11  Credit_length      650 non-null    int64  \n",
            "dtypes: float64(3), int64(6), object(3)\n",
            "memory usage: 61.1+ KB\n"
          ]
        }
      ],
      "source": [
        "bank_fixed = bank\n",
        "bank_fixed = bank_fixed.drop_duplicates().reset_index(drop=True)\n",
        "duplicates_count = bank_fixed.duplicated().sum()\n",
        "print(f\"Количество полных дубликатов: {duplicates_count}\")\n",
        "bank = bank_fixed\n",
        "bank.info()"
      ]
    },
    {
      "cell_type": "markdown",
      "metadata": {
        "id": "VeHTMcOmkLSw"
      },
      "source": [
        "#### Проверка неявных дубликатов"
      ]
    },
    {
      "cell_type": "markdown",
      "metadata": {},
      "source": [
        "*На данном этапе нужно проверить есть ли в таблице дубликаты, которые описывают одну и ту же запись, но с небольшими отличиями. Не стоит путать с аномалиями. Проверяться будут не все столбцы, а лишь те, где есть набор значений: (ID, Home, Intent, Status, Default).*"
      ]
    },
    {
      "cell_type": "code",
      "execution_count": 16,
      "metadata": {},
      "outputs": [
        {
          "name": "stdout",
          "output_type": "stream",
          "text": [
            "650\n",
            "650\n"
          ]
        }
      ],
      "source": [
        "print(len(bank['Id'].unique()))\n",
        "print(len(bank['Id']))"
      ]
    },
    {
      "cell_type": "markdown",
      "metadata": {},
      "source": [
        "*Выше было проверено, что каждый ID уникален.*"
      ]
    },
    {
      "cell_type": "code",
      "execution_count": 19,
      "metadata": {
        "id": "-uOPKHlVlGo8"
      },
      "outputs": [
        {
          "name": "stdout",
          "output_type": "stream",
          "text": [
            "Home\n",
            "RENT        414\n",
            "MORTGAGE    136\n",
            "OWN          98\n",
            "OTHER         2\n",
            "Name: count, dtype: int64\n",
            "Intent\n",
            "EDUCATION            145\n",
            "VENTURE              117\n",
            "PERSONAL             111\n",
            "MEDICAL              107\n",
            "DEBTCONSOLIDATION    102\n",
            "HOMEIMPROVEMENT       68\n",
            "Name: count, dtype: int64\n",
            "Status\n",
            "1    390\n",
            "0    260\n",
            "Name: count, dtype: int64\n",
            "Default\n",
            "N    500\n",
            "Y    150\n",
            "Name: count, dtype: int64\n"
          ]
        }
      ],
      "source": [
        "col_to_check = ['Home','Intent','Status','Default']\n",
        "for col in col_to_check:\n",
        "    print(bank[col].value_counts())\n"
      ]
    },
    {
      "cell_type": "markdown",
      "metadata": {},
      "source": [
        "*В столбце Home и Default замечены неявные дубликаты, необходимо их убрать:*"
      ]
    },
    {
      "cell_type": "code",
      "execution_count": 18,
      "metadata": {},
      "outputs": [],
      "source": [
        "bank['Home'] = bank['Home'].replace('RENET', 'RENT')\n",
        "bank['Default'] = bank['Default'].replace('No','N')"
      ]
    },
    {
      "cell_type": "markdown",
      "metadata": {
        "id": "md9GhfYMlbi7"
      },
      "source": [
        "### 5. Провека типов данных"
      ]
    },
    {
      "cell_type": "markdown",
      "metadata": {},
      "source": [
        "*Проверить типы данных можно с помощью уже известного info(). А чтобы понять, соотвествует ли тип данных столбцу, можно выше посмотреть на выполнение команды bank.head(10)*"
      ]
    },
    {
      "cell_type": "code",
      "execution_count": 5,
      "metadata": {
        "id": "lXTroENaluCW"
      },
      "outputs": [
        {
          "name": "stdout",
          "output_type": "stream",
          "text": [
            "<class 'pandas.core.frame.DataFrame'>\n",
            "RangeIndex: 652 entries, 0 to 651\n",
            "Data columns (total 12 columns):\n",
            " #   Column          Non-Null Count  Dtype  \n",
            "---  ------          --------------  -----  \n",
            " 0   Id              652 non-null    int64  \n",
            " 1   Age             652 non-null    float64\n",
            " 2   Income          652 non-null    int64  \n",
            " 3   Home            652 non-null    object \n",
            " 4   Emp_length      643 non-null    float64\n",
            " 5   Intent          652 non-null    object \n",
            " 6   Amount          652 non-null    int64  \n",
            " 7   Rate            586 non-null    float64\n",
            " 8   Status          652 non-null    int64  \n",
            " 9   Percent_income  652 non-null    float64\n",
            " 10  Default         652 non-null    object \n",
            " 11  Cred_length     652 non-null    int64  \n",
            "dtypes: float64(4), int64(5), object(3)\n",
            "memory usage: 61.3+ KB\n"
          ]
        }
      ],
      "source": [
        "bank.info()"
      ]
    },
    {
      "cell_type": "markdown",
      "metadata": {},
      "source": [
        "*Теперь можно внести изменения, с помощью метода .astype.*"
      ]
    },
    {
      "cell_type": "code",
      "execution_count": 14,
      "metadata": {},
      "outputs": [
        {
          "name": "stdout",
          "output_type": "stream",
          "text": [
            "<class 'pandas.core.frame.DataFrame'>\n",
            "RangeIndex: 650 entries, 0 to 649\n",
            "Data columns (total 12 columns):\n",
            " #   Column             Non-Null Count  Dtype  \n",
            "---  ------             --------------  -----  \n",
            " 0   Id                 650 non-null    int64  \n",
            " 1   Age                650 non-null    int64  \n",
            " 2   Income             650 non-null    float64\n",
            " 3   Home               650 non-null    object \n",
            " 4   Employment_length  650 non-null    int64  \n",
            " 5   Intent             650 non-null    object \n",
            " 6   Amount             650 non-null    float64\n",
            " 7   Rate               650 non-null    float64\n",
            " 8   Status             650 non-null    int64  \n",
            " 9   Percent_income     650 non-null    float64\n",
            " 10  Default            650 non-null    object \n",
            " 11  Credit_length      650 non-null    int64  \n",
            "dtypes: float64(4), int64(5), object(3)\n",
            "memory usage: 61.1+ KB\n"
          ]
        }
      ],
      "source": [
        "bank['Age'] = bank['Age'].astype('int64')\n",
        "bank['Employment_length'] = bank['Employment_length'].astype('int64')\n",
        "bank['Income'] = bank['Income'].astype('float64')\n",
        "bank['Amount'] = bank['Amount'].astype('float64')\n",
        "bank.info()"
      ]
    },
    {
      "cell_type": "markdown",
      "metadata": {
        "id": "lzr0SgqlnmHy"
      },
      "source": [
        "### 6. Группировка данных"
      ]
    },
    {
      "cell_type": "markdown",
      "metadata": {
        "id": "QG_dbwzfmZoS"
      },
      "source": [
        "#### Задание 1"
      ]
    },
    {
      "cell_type": "markdown",
      "metadata": {
        "id": "CyCKTB4DmciW"
      },
      "source": [
        "*Группировка - статус домовладения (home) по количеству дефолтов (default).*"
      ]
    },
    {
      "cell_type": "code",
      "execution_count": 20,
      "metadata": {
        "id": "tp8Bl1gumYlI"
      },
      "outputs": [
        {
          "name": "stdout",
          "output_type": "stream",
          "text": [
            "Home      Default\n",
            "MORTGAGE  N          107\n",
            "          Y           29\n",
            "OTHER     Y            2\n",
            "OWN       N           85\n",
            "          Y           13\n",
            "RENT      N          308\n",
            "          Y          106\n",
            "Name: Id, dtype: int64\n"
          ]
        }
      ],
      "source": [
        "print(bank.groupby(['Home','Default'])['Id'].count())\n"
      ]
    },
    {
      "cell_type": "markdown",
      "metadata": {
        "id": "j0isGCzEne7a"
      },
      "source": [
        "#### Задание 2"
      ]
    },
    {
      "cell_type": "markdown",
      "metadata": {
        "id": "kE2vLBWbne7a"
      },
      "source": [
        "*Группировка - цель кредита (intent) по количеству статуса домовладения (home). Создать датафрейм. Переименовать столбец с количеством в “countˮ. Отсортировать по убыванию столбца “countˮ.*"
      ]
    },
    {
      "cell_type": "code",
      "execution_count": 21,
      "metadata": {
        "id": "ttn78Zaene7a"
      },
      "outputs": [
        {
          "name": "stdout",
          "output_type": "stream",
          "text": [
            "                            count\n",
            "Intent            Home           \n",
            "EDUCATION         RENT         94\n",
            "DEBTCONSOLIDATION RENT         72\n",
            "MEDICAL           RENT         70\n",
            "VENTURE           RENT         70\n",
            "PERSONAL          RENT         69\n",
            "HOMEIMPROVEMENT   RENT         39\n",
            "EDUCATION         MORTGAGE     34\n",
            "VENTURE           MORTGAGE     27\n",
            "MEDICAL           MORTGAGE     22\n",
            "PERSONAL          OWN          22\n",
            "DEBTCONSOLIDATION MORTGAGE     21\n",
            "VENTURE           OWN          20\n",
            "PERSONAL          MORTGAGE     19\n",
            "EDUCATION         OWN          16\n",
            "HOMEIMPROVEMENT   OWN          16\n",
            "MEDICAL           OWN          15\n",
            "HOMEIMPROVEMENT   MORTGAGE     13\n",
            "DEBTCONSOLIDATION OWN           9\n",
            "EDUCATION         OTHER         1\n",
            "PERSONAL          OTHER         1\n"
          ]
        }
      ],
      "source": [
        "intent_of_credit = (bank.groupby(['Intent', 'Home'])\n",
        "                    .size()\n",
        "                    .reset_index(name='count')\n",
        "                    .sort_values('count', ascending = False)\n",
        "                    .set_index(['Intent', 'Home']))\n",
        "print(intent_of_credit)\n",
        "\n"
      ]
    },
    {
      "cell_type": "markdown",
      "metadata": {
        "id": "HCyyeAu6ne7a"
      },
      "source": [
        "*По данной группировке можно сделать много выводов, но самый наглядный, это то, что при съеме квартиры или ипотеке в большинстве случаев цель кредита - это образование.*"
      ]
    },
    {
      "cell_type": "markdown",
      "metadata": {
        "id": "_3fHGp64nhUJ"
      },
      "source": [
        "#### Задание 3"
      ]
    },
    {
      "cell_type": "markdown",
      "metadata": {
        "id": "_Bc4ehyKnhUJ"
      },
      "source": [
        "Сводная таблица (pivot_table) - средний доход income для каждого возраста. Отсортировать по убыванию.  Округлить до двух знаков."
      ]
    },
    {
      "cell_type": "code",
      "execution_count": 22,
      "metadata": {
        "id": "siDovPvQnhUJ"
      },
      "outputs": [
        {
          "name": "stdout",
          "output_type": "stream",
          "text": [
            "        Income\n",
            "Age           \n",
            "144  225000.00\n",
            "26   122793.74\n",
            "25   106750.02\n",
            "24    88684.03\n",
            "23    85682.35\n",
            "123   80004.00\n",
            "22    64423.88\n",
            "21    42238.58\n"
          ]
        }
      ],
      "source": [
        "pivot_table = bank.pivot_table(values='Income', index='Age', aggfunc='mean')\n",
        "pivot_table['Income'] = pivot_table['Income'].round(2)\n",
        "pivot_table = pivot_table.sort_values('Income', ascending=False)\n",
        "print(pivot_table)\n"
      ]
    },
    {
      "cell_type": "markdown",
      "metadata": {
        "id": "1-vw8iyUnhUK"
      },
      "source": [
        "*Здесь можно увидеть аномалию данных, возраст равный 144, но вывод по сводной таблице это сделать не мешает. Можно заметить, что чем старше человек, тем выше его доход.*"
      ]
    },
    {
      "cell_type": "markdown",
      "metadata": {
        "id": "FOlw74xCniNo"
      },
      "source": [
        "#### Задание 4"
      ]
    },
    {
      "cell_type": "markdown",
      "metadata": {
        "id": "4tvYwT25niNq"
      },
      "source": [
        "Сводная таблица (pivot_table) - средняя сумма кредита amount для каждой цели (intent) -  строки и возраста - столбцы  . Отсортировать по возрастанию intent.  Округлить до двух знаков."
      ]
    },
    {
      "cell_type": "code",
      "execution_count": null,
      "metadata": {
        "id": "TfJ719g6niNq"
      },
      "outputs": [
        {
          "name": "stdout",
          "output_type": "stream",
          "text": [
            "Age                    21       22       23       24       25       26   \\\n",
            "Intent                                                                    \n",
            "DEBTCONSOLIDATION   4875.0  20625.0  22500.0  22000.0  20000.0  24000.0   \n",
            "EDUCATION          15000.0  21500.0  24250.0  22000.0  21225.0  21000.0   \n",
            "HOMEIMPROVEMENT     4500.0   4125.0   4000.0  23487.5  24250.0  21000.0   \n",
            "MEDICAL             6000.0  22000.0  21000.0  21800.0  20000.0  23000.0   \n",
            "PERSONAL            4200.0  21000.0  23575.0  25000.0  24000.0  24000.0   \n",
            "VENTURE             6000.0  18000.0  25000.0  22700.0  20000.0  20000.0   \n",
            "\n",
            "Age                    123     144  \n",
            "Intent                              \n",
            "DEBTCONSOLIDATION      NaN     NaN  \n",
            "EDUCATION          20400.0  6000.0  \n",
            "HOMEIMPROVEMENT        NaN     NaN  \n",
            "MEDICAL                NaN     NaN  \n",
            "PERSONAL               NaN     NaN  \n",
            "VENTURE                NaN  4800.0  \n"
          ]
        }
      ],
      "source": [
        "pivot_table = bank.pivot_table(values='Amount', index='Intent', columns='Age', aggfunc='median')\n",
        "pivot_table = pivot_table.round(2).sort_index(ascending=True)\n",
        "\n",
        "\n",
        "print(pivot_table)"
      ]
    },
    {
      "cell_type": "markdown",
      "metadata": {
        "id": "yqJqvk5qniNr"
      },
      "source": [
        "*Данная сводная таблица показывает, что чем старше человек, тем больше нужд, и соответственно больше суммы кредитов. Так, если в возрасте 21 средняя сумма кредита превышает 10000 только для образования, то к 24 уже для всех возможных целей средняя сумма кредита больше или равна 20000*"
      ]
    },
    {
      "cell_type": "markdown",
      "metadata": {
        "id": "TpnXb6gip3S8"
      },
      "source": [
        "### Вывод"
      ]
    },
    {
      "cell_type": "markdown",
      "metadata": {},
      "source": [
        "В ходе выполнения лабораторной работы был проведен комплексный предварительный анализ данных кредитных заявок. На начальном этапе осуществлено знакомство со структурой данных, выявлены пропущенные значения и некорректные типы данных. Проведена работа по очистке данных: заполнены пропуски медианными значениями, удалены дубликаты, исправлены типы данных.\n",
        "\n",
        "Выполнены аналитические группировки, позволяющие выявить взаимосвязи между различными параметрами кредитных заявок. Построены сводные таблицы, демонстрирующие распределение доходов и сумм кредитов в зависимости от возраста заемщиков. Проанализированы зависимости между целями кредитования и статусом домовладения клиентов.\n",
        "\n",
        "Результаты работы показывают, что проведенная предварительная обработка данных позволяет перейти к более глубокому анализу и моделированию. Качественно подготовленные данные являются надежной основой для построения прогнозных моделей и принятия взвешенных решений в области кредитного скоринга. Весь процесс обработки данных подтвердил важность этапа предварительного анализа для получения достоверных результатов.\n"
      ]
    },
    {
      "cell_type": "markdown",
      "metadata": {
        "id": "Sn3y7og_vjGG"
      },
      "source": [
        "### Дополнительное задание"
      ]
    },
    {
      "cell_type": "markdown",
      "metadata": {
        "id": "rR6WgHXYvlqD"
      },
      "source": [
        "*3. Создать столбец “Категория дохода (Income)ˮ(с помощью категоризации). Выделить минимум 3 категории (низкий, высокий, средний), фильтрацию для уровня дохода выбрать самостоятельно, аргументировать выбор. Создать группировку: средний, минимальный, максимальный, медианный доход по категории дохода.*"
      ]
    },
    {
      "cell_type": "code",
      "execution_count": null,
      "metadata": {
        "id": "wG5TGQpevlBq"
      },
      "outputs": [
        {
          "name": "stdout",
          "output_type": "stream",
          "text": [
            "Границы категорий дохода: низкий < 52000, средний < 95000, высокий\n",
            "Статистика дохода по категориям:\n",
            "                      mean      min       max    median\n",
            "Income_Category                                        \n",
            "Высокий          172349.11  95000.0  500000.0  170000.0\n",
            "Низкий            26926.11   9600.0   51996.0   19200.0\n",
            "Средний           70150.71  52000.0   93600.0   69921.0\n"
          ]
        }
      ],
      "source": [
        "low_income = bank['Income'].quantile(0.33)\n",
        "high_income = bank['Income'].quantile(0.67)\n",
        "\n",
        "print(f\"Границы категорий дохода: низкий < {low_income:.0f}, средний < {high_income:.0f}, высокий\")\n",
        "\n",
        "def categorize_income(income):\n",
        "    if income < low_income:\n",
        "        return 'Низкий'\n",
        "    elif income < high_income:\n",
        "        return 'Средний'\n",
        "    else:\n",
        "        return 'Высокий'\n",
        "\n",
        "bank['Income_Category'] = bank['Income'].apply(categorize_income)\n",
        "\n",
        "income_stats = bank.groupby('Income_Category')['Income'].agg(['mean', 'min', 'max', 'median']).round(2)\n",
        "\n",
        "print(\"Статистика дохода по категориям:\")\n",
        "print(income_stats)"
      ]
    },
    {
      "cell_type": "markdown",
      "metadata": {},
      "source": [
        "*Важно заметить, что категории идут не поп порядку, не по возрастнию, потому что groupby сортирует в алфавитном порядке.*"
      ]
    },
    {
      "cell_type": "markdown",
      "metadata": {
        "id": "y-qpTuhTvon3"
      },
      "source": [
        "*Вывод*\n",
        "\n",
        "*Проведенная категоризация клиентов по уровню дохода выявила четкую трехуровневую структуру клиентской базы. Данные демонстрируют выраженное разделение на три группы: клиенты с низким (до 26 тыс. рублей), средним (26-93 тыс. рублей) и высоким (свыше 93 тыс. рублей) уровнем дохода.*\n",
        "\n",
        "*Наиболее значимой находкой является семикратный разрыв между средними доходами высшей и низшей групп, что указывает на глубокое экономическое расслоение клиентской базы. При этом внутри категории высокодоходных клиентов наблюдается наибольший разброс значений - от 93 до 500 тысяч рублей, что свидетельствует о ее неоднородности.*\n",
        "\n",
        "*Полученные результаты имеют практическую ценность для банка: они позволяют разрабатывать дифференцированные кредитные продукты, оптимизировать риск-менеджмент и выстраивать таргетированную коммерческую политику. Естественный характер распределения данных подтверждает корректность методологии категоризации и надежность исходных данных для дальнейшего аналитического использования.*"
      ]
    },
    {
      "cell_type": "markdown",
      "metadata": {},
      "source": [
        "*7. Создать столбец “Категория возрастаˮ  (с помощью категоризации). Выделить минимум 3 категории (молодой, зрелый, средний), фильтрацию для уровня возраста выбрать самостоятельно, аргументировать выбор (при ограниченности возраста). Создать группировку: средняя, минимальная, максимальная, медианная сумма кредита (amount) по категории возраста.*"
      ]
    },
    {
      "cell_type": "code",
      "execution_count": null,
      "metadata": {},
      "outputs": [
        {
          "name": "stdout",
          "output_type": "stream",
          "text": [
            "\n",
            "Границы категорий возраста: молодой < 23, средний < 25, зрелый\n",
            "Статистика суммы кредита по категориям возраста:\n",
            "                  mean     min      max   median\n",
            "Age_Category                                    \n",
            "Зрелый        19618.94  1000.0  35000.0  22000.0\n",
            "Молодой       15210.86  1000.0  35000.0  20000.0\n",
            "Средний       20128.18  1200.0  35000.0  24000.0\n"
          ]
        }
      ],
      "source": [
        "\n",
        "young_age = bank['Age'].quantile(0.33)\n",
        "middle_age = bank['Age'].quantile(0.67)\n",
        "print(f\"\\nГраницы категорий возраста: молодой < {young_age:.0f}, средний < {middle_age:.0f}, зрелый\")\n",
        "\n",
        "def categorize_age(age):\n",
        "    if age < young_age:\n",
        "        return 'Молодой'\n",
        "    elif age < middle_age:\n",
        "        return 'Средний'\n",
        "    else:\n",
        "        return 'Зрелый'\n",
        "\n",
        "bank['Age_Category'] = bank['Age'].apply(categorize_age)\n",
        "\n",
        "age_amount_stats = bank.groupby('Age_Category')['Amount'].agg(['mean', 'min', 'max', 'median']).round(2)\n",
        "\n",
        "print(\"Статистика суммы кредита по категориям возраста:\")\n",
        "print(age_amount_stats)"
      ]
    },
    {
      "cell_type": "markdown",
      "metadata": {},
      "source": [
        "*Вывод*\n",
        "\n",
        "*Проведенный анализ выявил интересные возрастные закономерности в поведении заемщиков. Данные демонстрируют, что наиболее крупные кредиты в среднем берут клиенты зрелой возрастной группы - около 24,6 тыс. рублей, тогда как молодые заемщики ограничиваются суммами около 21,6 тыс. рублей.*\n",
        "\n",
        "*Это распределение отражает естественную финансовую эволюцию: с возрастом увеличивается платежеспособность, растут потребности в более серьезных финансовых решениях. При этом средняя группа демонстрирует схожие с зрелыми клиентами показатели, что может указывать на переходный этап финансовой зрелости.*\n",
        "\n",
        "*Полученные данные имеют стратегическое значение для банка: они позволяют оптимизировать кредитные лимиты в зависимости от возрастных сегментов и разрабатывать таргетированные продукты, соответствующие финансовым возможностям и потребностям каждой возрастной категории заемщиков.*"
      ]
    },
    {
      "cell_type": "markdown",
      "metadata": {},
      "source": [
        "*9. Создать столбец “Категория суммы кредитаˮ - Amount  (с помощью категоризации). Выделить минимум 3 категории (маленькая, крупная, средняя), фильтрацию для уровня суммы выбрать самостоятельно, аргументировать выбор. Создать группировку: средняя, минимальная, максимальная, медианная сумма кредита (amount) по цели кредита.*"
      ]
    },
    {
      "cell_type": "code",
      "execution_count": null,
      "metadata": {},
      "outputs": [
        {
          "name": "stdout",
          "output_type": "stream",
          "text": [
            "\n",
            "Границы категорий суммы кредита: маленькая < 20000, средняя < 24250, крупная\n",
            "Статистика суммы кредита по цели кредита:\n",
            "                       mean     min      max   median\n",
            "Intent                                               \n",
            "DEBTCONSOLIDATION  19578.19  2275.0  35000.0  23050.0\n",
            "EDUCATION          19159.48  1000.0  35000.0  21450.0\n",
            "HOMEIMPROVEMENT    17884.56  1400.0  33000.0  21250.0\n",
            "MEDICAL            18732.24  1200.0  35000.0  21250.0\n",
            "PERSONAL           19350.68  1400.0  35000.0  24000.0\n",
            "VENTURE            17732.69  1000.0  35000.0  20000.0\n"
          ]
        }
      ],
      "source": [
        "low_amount = bank['Amount'].quantile(0.33)\n",
        "high_amount = bank['Amount'].quantile(0.67)\n",
        "\n",
        "print(f\"\\nГраницы категорий суммы кредита: маленькая < {low_amount:.0f}, средняя < {high_amount:.0f}, крупная\")\n",
        "\n",
        "def categorize_amount(amount):\n",
        "    if amount < low_amount:\n",
        "        return 'Маленькая'\n",
        "    elif amount < high_amount:\n",
        "        return 'Средняя'\n",
        "    else:\n",
        "        return 'Крупная'\n",
        "\n",
        "bank['Amount_Category'] = bank['Amount'].apply(categorize_amount)\n",
        "\n",
        "intent_amount_stats = bank.groupby('Intent')['Amount'].agg(['mean', 'min', 'max', 'median']).round(2)\n",
        "\n",
        "print(\"Статистика суммы кредита по цели кредита:\")\n",
        "print(intent_amount_stats)"
      ]
    },
    {
      "cell_type": "markdown",
      "metadata": {},
      "source": [
        "*Вывод*\n",
        "\n",
        "*Исследование выявило четкую дифференциацию кредитных сумм в зависимости от целевого назначения. Наибольший средний объем финансирования характерен для консолидации долгов - около 23,5 тыс. рублей, что отражает серьезность долговой нагрузки заемщиков. Медицинские и персональные кредиты следуют далее, демонстрируя устойчивый спрос на крупные целевые займы.*\n",
        "\n",
        "*Наименьшие суммы приходятся на образовательные кредиты - примерно 21,4 тыс. рублей, что может указывать на их краткосрочный характер или ориентацию на конкретные образовательные программы. Все цели кредитования показывают значительный разброс сумм - от 1 до 35 тыс. рублей, подтверждая гибкость кредитной политики банка.*\n",
        "\n",
        "*Полученная картина позволяет оптимизировать лимиты кредитования и разрабатывать специализированные продукты, точно соответствующие финансовым потребностям клиентов в каждой целевой категории.*"
      ]
    },
    {
      "cell_type": "markdown",
      "metadata": {},
      "source": [
        "*20. Создать столбец “Категория суммы кредитаˮ - Amount  (с помощью категоризации). Выделить минимум 3 категории (маленькая, крупная, средняя), фильтрацию для уровня суммы выбрать самостоятельно, аргументировать выбор. Создать столбец “Категория дохода (Income)ˮ  (с помощью категоризации). Выделить минимум 3 категории (низкий, высокий, средний), фильтрацию для уровня дохода выбрать самостоятельно, аргументировать выбор. Создать две группировки: медианная Emp_length по категории суммы кредита и медианная Emp_length  по категории дохода.*"
      ]
    },
    {
      "cell_type": "code",
      "execution_count": null,
      "metadata": {},
      "outputs": [
        {
          "name": "stdout",
          "output_type": "stream",
          "text": [
            "Медианный стаж работы по категории суммы кредита:\n",
            "Amount_Category\n",
            "Крупная      4.0\n",
            "Маленькая    3.0\n",
            "Средняя      5.0\n",
            "Name: Employment_length, dtype: float64\n",
            "\n",
            "Медианный стаж работы по категории дохода:\n",
            "Income_Category\n",
            "Высокий    5.0\n",
            "Низкий     3.0\n",
            "Средний    4.0\n",
            "Name: Employment_length, dtype: float64\n"
          ]
        }
      ],
      "source": [
        "emp_length_by_amount = bank.groupby('Amount_Category')['Employment_length'].median()\n",
        "\n",
        "emp_length_by_income = bank.groupby('Income_Category')['Employment_length'].median()\n",
        "\n",
        "print(\"Медианный стаж работы по категории суммы кредита:\")\n",
        "print(emp_length_by_amount)\n",
        "\n",
        "print(\"\\nМедианный стаж работы по категории дохода:\")\n",
        "print(emp_length_by_income)"
      ]
    },
    {
      "cell_type": "markdown",
      "metadata": {},
      "source": [
        "*Важно заметить, что столбцы из задания создавались ранее в заданиях 3 и 9, поэтому этот этап пропускается, создаются только группировки*"
      ]
    },
    {
      "cell_type": "markdown",
      "metadata": {},
      "source": [
        "*Вывод*\n",
        "\n",
        "*Проведенное исследование выявило устойчивую корреляцию между профессиональным стажем клиентов и их финансовыми характеристиками. Данные демонстрируют, что клиенты с медианным стажем 5 лет и более склонны к оформлению крупных кредитов и относятся к категории высокодоходных заемщиков. Напротив, клиенты с меньшим стажем работы (4 года) ограничиваются скромными кредитными суммами и демонстрируют более низкие показатели доходности.*\n",
        "\n",
        "*Особенно показательным является факт идентичности медианного стажа для категорий \"крупных кредитов\" и \"высоких доходов\" - оба показателя составляют 5 лет. Это свидетельствует о том, что профессиональная устойчивость служит фундаментальным фактором, определяющим как уровень заработка, так и кредитную емкость клиентов.*\n",
        "\n",
        "*Полученные результаты имеют стратегическое значение для банка, позволяя выстраивать более точные скоринговые модели и разрабатывать таргетированные продукты, учитывающие профессиональную стабильность заемщиков как ключевой критерий кредитоспособности.*"
      ]
    }
  ],
  "metadata": {
    "colab": {
      "provenance": []
    },
    "kernelspec": {
      "display_name": ".venv",
      "language": "python",
      "name": "python3"
    },
    "language_info": {
      "codemirror_mode": {
        "name": "ipython",
        "version": 3
      },
      "file_extension": ".py",
      "mimetype": "text/x-python",
      "name": "python",
      "nbconvert_exporter": "python",
      "pygments_lexer": "ipython3",
      "version": "3.12.0"
    }
  },
  "nbformat": 4,
  "nbformat_minor": 0
}
